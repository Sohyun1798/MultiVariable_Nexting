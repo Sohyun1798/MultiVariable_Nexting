{
 "cells": [
  {
   "cell_type": "code",
   "execution_count": 304,
   "id": "33c42078-f19a-408a-889b-b804eaf3038c",
   "metadata": {},
   "outputs": [],
   "source": [
    "import pandas as pd\n",
    "import numpy as np\n",
    "import matplotlib.pyplot as plt\n",
    "from statsmodels.tsa.ar_model import AutoReg\n",
    "import neurokit2 as nk\n",
    "from statsmodels.tsa.stattools import adfuller\n",
    "from statsmodels.graphics.tsaplots import plot_pacf\n",
    "import mne\n",
    "from sklearn.preprocessing import normalize"
   ]
  },
  {
   "cell_type": "markdown",
   "id": "c416332d-4cd0-40f5-ab47-9b0d34b5e54f",
   "metadata": {},
   "source": [
    "# We first test on a simulated ECG dataset"
   ]
  },
  {
   "cell_type": "code",
   "execution_count": 305,
   "id": "1d2f29cb-a8cd-4d3b-8c23-d23c90c3a3b4",
   "metadata": {},
   "outputs": [
    {
     "data": {
      "text/html": [
       "<div>\n",
       "<style scoped>\n",
       "    .dataframe tbody tr th:only-of-type {\n",
       "        vertical-align: middle;\n",
       "    }\n",
       "\n",
       "    .dataframe tbody tr th {\n",
       "        vertical-align: top;\n",
       "    }\n",
       "\n",
       "    .dataframe thead th {\n",
       "        text-align: right;\n",
       "    }\n",
       "</style>\n",
       "<table border=\"1\" class=\"dataframe\">\n",
       "  <thead>\n",
       "    <tr style=\"text-align: right;\">\n",
       "      <th></th>\n",
       "      <th>ECG_Raw</th>\n",
       "      <th>ECG_Clean</th>\n",
       "      <th>ECG_Rate</th>\n",
       "      <th>ECG_Quality</th>\n",
       "      <th>ECG_R_Peaks</th>\n",
       "      <th>ECG_P_Peaks</th>\n",
       "      <th>ECG_P_Onsets</th>\n",
       "      <th>ECG_P_Offsets</th>\n",
       "      <th>ECG_Q_Peaks</th>\n",
       "      <th>ECG_R_Onsets</th>\n",
       "      <th>ECG_R_Offsets</th>\n",
       "      <th>ECG_S_Peaks</th>\n",
       "      <th>ECG_T_Peaks</th>\n",
       "      <th>ECG_T_Onsets</th>\n",
       "      <th>ECG_T_Offsets</th>\n",
       "      <th>ECG_Phase_Atrial</th>\n",
       "      <th>ECG_Phase_Completion_Atrial</th>\n",
       "      <th>ECG_Phase_Ventricular</th>\n",
       "      <th>ECG_Phase_Completion_Ventricular</th>\n",
       "    </tr>\n",
       "  </thead>\n",
       "  <tbody>\n",
       "    <tr>\n",
       "      <th>0</th>\n",
       "      <td>1.089905</td>\n",
       "      <td>-0.193299</td>\n",
       "      <td>79.974408</td>\n",
       "      <td>0.000000</td>\n",
       "      <td>0</td>\n",
       "      <td>0</td>\n",
       "      <td>0</td>\n",
       "      <td>0</td>\n",
       "      <td>0</td>\n",
       "      <td>0</td>\n",
       "      <td>0</td>\n",
       "      <td>0</td>\n",
       "      <td>0</td>\n",
       "      <td>0</td>\n",
       "      <td>0</td>\n",
       "      <td>NaN</td>\n",
       "      <td>0.0</td>\n",
       "      <td>NaN</td>\n",
       "      <td>0.0</td>\n",
       "    </tr>\n",
       "    <tr>\n",
       "      <th>1</th>\n",
       "      <td>1.073301</td>\n",
       "      <td>-0.261646</td>\n",
       "      <td>79.974408</td>\n",
       "      <td>0.000000</td>\n",
       "      <td>0</td>\n",
       "      <td>0</td>\n",
       "      <td>0</td>\n",
       "      <td>0</td>\n",
       "      <td>0</td>\n",
       "      <td>0</td>\n",
       "      <td>0</td>\n",
       "      <td>0</td>\n",
       "      <td>0</td>\n",
       "      <td>0</td>\n",
       "      <td>0</td>\n",
       "      <td>NaN</td>\n",
       "      <td>0.0</td>\n",
       "      <td>NaN</td>\n",
       "      <td>0.0</td>\n",
       "    </tr>\n",
       "    <tr>\n",
       "      <th>2</th>\n",
       "      <td>1.030004</td>\n",
       "      <td>-0.331911</td>\n",
       "      <td>79.974408</td>\n",
       "      <td>0.000000</td>\n",
       "      <td>0</td>\n",
       "      <td>0</td>\n",
       "      <td>0</td>\n",
       "      <td>0</td>\n",
       "      <td>0</td>\n",
       "      <td>0</td>\n",
       "      <td>0</td>\n",
       "      <td>0</td>\n",
       "      <td>0</td>\n",
       "      <td>0</td>\n",
       "      <td>0</td>\n",
       "      <td>NaN</td>\n",
       "      <td>0.0</td>\n",
       "      <td>NaN</td>\n",
       "      <td>0.0</td>\n",
       "    </tr>\n",
       "    <tr>\n",
       "      <th>3</th>\n",
       "      <td>0.962734</td>\n",
       "      <td>-0.405434</td>\n",
       "      <td>79.974408</td>\n",
       "      <td>0.000000</td>\n",
       "      <td>0</td>\n",
       "      <td>0</td>\n",
       "      <td>0</td>\n",
       "      <td>0</td>\n",
       "      <td>0</td>\n",
       "      <td>0</td>\n",
       "      <td>0</td>\n",
       "      <td>0</td>\n",
       "      <td>0</td>\n",
       "      <td>0</td>\n",
       "      <td>0</td>\n",
       "      <td>NaN</td>\n",
       "      <td>0.0</td>\n",
       "      <td>NaN</td>\n",
       "      <td>0.0</td>\n",
       "    </tr>\n",
       "    <tr>\n",
       "      <th>4</th>\n",
       "      <td>0.875463</td>\n",
       "      <td>-0.482975</td>\n",
       "      <td>79.974408</td>\n",
       "      <td>0.000000</td>\n",
       "      <td>0</td>\n",
       "      <td>0</td>\n",
       "      <td>0</td>\n",
       "      <td>0</td>\n",
       "      <td>0</td>\n",
       "      <td>0</td>\n",
       "      <td>0</td>\n",
       "      <td>0</td>\n",
       "      <td>0</td>\n",
       "      <td>0</td>\n",
       "      <td>0</td>\n",
       "      <td>NaN</td>\n",
       "      <td>0.0</td>\n",
       "      <td>NaN</td>\n",
       "      <td>0.0</td>\n",
       "    </tr>\n",
       "    <tr>\n",
       "      <th>...</th>\n",
       "      <td>...</td>\n",
       "      <td>...</td>\n",
       "      <td>...</td>\n",
       "      <td>...</td>\n",
       "      <td>...</td>\n",
       "      <td>...</td>\n",
       "      <td>...</td>\n",
       "      <td>...</td>\n",
       "      <td>...</td>\n",
       "      <td>...</td>\n",
       "      <td>...</td>\n",
       "      <td>...</td>\n",
       "      <td>...</td>\n",
       "      <td>...</td>\n",
       "      <td>...</td>\n",
       "      <td>...</td>\n",
       "      <td>...</td>\n",
       "      <td>...</td>\n",
       "      <td>...</td>\n",
       "    </tr>\n",
       "    <tr>\n",
       "      <th>9995</th>\n",
       "      <td>-0.109388</td>\n",
       "      <td>-0.038585</td>\n",
       "      <td>80.862534</td>\n",
       "      <td>0.864814</td>\n",
       "      <td>0</td>\n",
       "      <td>0</td>\n",
       "      <td>0</td>\n",
       "      <td>0</td>\n",
       "      <td>0</td>\n",
       "      <td>0</td>\n",
       "      <td>0</td>\n",
       "      <td>0</td>\n",
       "      <td>0</td>\n",
       "      <td>0</td>\n",
       "      <td>0</td>\n",
       "      <td>NaN</td>\n",
       "      <td>0.0</td>\n",
       "      <td>NaN</td>\n",
       "      <td>0.0</td>\n",
       "    </tr>\n",
       "    <tr>\n",
       "      <th>9996</th>\n",
       "      <td>-0.108536</td>\n",
       "      <td>-0.036789</td>\n",
       "      <td>80.862534</td>\n",
       "      <td>0.864814</td>\n",
       "      <td>0</td>\n",
       "      <td>0</td>\n",
       "      <td>0</td>\n",
       "      <td>0</td>\n",
       "      <td>0</td>\n",
       "      <td>0</td>\n",
       "      <td>0</td>\n",
       "      <td>0</td>\n",
       "      <td>0</td>\n",
       "      <td>0</td>\n",
       "      <td>0</td>\n",
       "      <td>NaN</td>\n",
       "      <td>0.0</td>\n",
       "      <td>NaN</td>\n",
       "      <td>0.0</td>\n",
       "    </tr>\n",
       "    <tr>\n",
       "      <th>9997</th>\n",
       "      <td>-0.107614</td>\n",
       "      <td>-0.034968</td>\n",
       "      <td>80.862534</td>\n",
       "      <td>0.864814</td>\n",
       "      <td>0</td>\n",
       "      <td>0</td>\n",
       "      <td>0</td>\n",
       "      <td>0</td>\n",
       "      <td>0</td>\n",
       "      <td>0</td>\n",
       "      <td>0</td>\n",
       "      <td>0</td>\n",
       "      <td>0</td>\n",
       "      <td>0</td>\n",
       "      <td>0</td>\n",
       "      <td>NaN</td>\n",
       "      <td>0.0</td>\n",
       "      <td>NaN</td>\n",
       "      <td>0.0</td>\n",
       "    </tr>\n",
       "    <tr>\n",
       "      <th>9998</th>\n",
       "      <td>-0.106612</td>\n",
       "      <td>-0.033129</td>\n",
       "      <td>80.862534</td>\n",
       "      <td>0.864814</td>\n",
       "      <td>0</td>\n",
       "      <td>0</td>\n",
       "      <td>0</td>\n",
       "      <td>0</td>\n",
       "      <td>0</td>\n",
       "      <td>0</td>\n",
       "      <td>0</td>\n",
       "      <td>0</td>\n",
       "      <td>0</td>\n",
       "      <td>0</td>\n",
       "      <td>0</td>\n",
       "      <td>NaN</td>\n",
       "      <td>0.0</td>\n",
       "      <td>NaN</td>\n",
       "      <td>0.0</td>\n",
       "    </tr>\n",
       "    <tr>\n",
       "      <th>9999</th>\n",
       "      <td>-0.105518</td>\n",
       "      <td>-0.031279</td>\n",
       "      <td>80.862534</td>\n",
       "      <td>0.864814</td>\n",
       "      <td>0</td>\n",
       "      <td>0</td>\n",
       "      <td>0</td>\n",
       "      <td>0</td>\n",
       "      <td>0</td>\n",
       "      <td>0</td>\n",
       "      <td>0</td>\n",
       "      <td>0</td>\n",
       "      <td>0</td>\n",
       "      <td>0</td>\n",
       "      <td>0</td>\n",
       "      <td>NaN</td>\n",
       "      <td>0.0</td>\n",
       "      <td>NaN</td>\n",
       "      <td>0.0</td>\n",
       "    </tr>\n",
       "  </tbody>\n",
       "</table>\n",
       "<p>10000 rows × 19 columns</p>\n",
       "</div>"
      ],
      "text/plain": [
       "       ECG_Raw  ECG_Clean   ECG_Rate  ECG_Quality  ECG_R_Peaks  ECG_P_Peaks  \\\n",
       "0     1.089905  -0.193299  79.974408     0.000000            0            0   \n",
       "1     1.073301  -0.261646  79.974408     0.000000            0            0   \n",
       "2     1.030004  -0.331911  79.974408     0.000000            0            0   \n",
       "3     0.962734  -0.405434  79.974408     0.000000            0            0   \n",
       "4     0.875463  -0.482975  79.974408     0.000000            0            0   \n",
       "...        ...        ...        ...          ...          ...          ...   \n",
       "9995 -0.109388  -0.038585  80.862534     0.864814            0            0   \n",
       "9996 -0.108536  -0.036789  80.862534     0.864814            0            0   \n",
       "9997 -0.107614  -0.034968  80.862534     0.864814            0            0   \n",
       "9998 -0.106612  -0.033129  80.862534     0.864814            0            0   \n",
       "9999 -0.105518  -0.031279  80.862534     0.864814            0            0   \n",
       "\n",
       "      ECG_P_Onsets  ECG_P_Offsets  ECG_Q_Peaks  ECG_R_Onsets  ECG_R_Offsets  \\\n",
       "0                0              0            0             0              0   \n",
       "1                0              0            0             0              0   \n",
       "2                0              0            0             0              0   \n",
       "3                0              0            0             0              0   \n",
       "4                0              0            0             0              0   \n",
       "...            ...            ...          ...           ...            ...   \n",
       "9995             0              0            0             0              0   \n",
       "9996             0              0            0             0              0   \n",
       "9997             0              0            0             0              0   \n",
       "9998             0              0            0             0              0   \n",
       "9999             0              0            0             0              0   \n",
       "\n",
       "      ECG_S_Peaks  ECG_T_Peaks  ECG_T_Onsets  ECG_T_Offsets  ECG_Phase_Atrial  \\\n",
       "0               0            0             0              0               NaN   \n",
       "1               0            0             0              0               NaN   \n",
       "2               0            0             0              0               NaN   \n",
       "3               0            0             0              0               NaN   \n",
       "4               0            0             0              0               NaN   \n",
       "...           ...          ...           ...            ...               ...   \n",
       "9995            0            0             0              0               NaN   \n",
       "9996            0            0             0              0               NaN   \n",
       "9997            0            0             0              0               NaN   \n",
       "9998            0            0             0              0               NaN   \n",
       "9999            0            0             0              0               NaN   \n",
       "\n",
       "      ECG_Phase_Completion_Atrial  ECG_Phase_Ventricular  \\\n",
       "0                             0.0                    NaN   \n",
       "1                             0.0                    NaN   \n",
       "2                             0.0                    NaN   \n",
       "3                             0.0                    NaN   \n",
       "4                             0.0                    NaN   \n",
       "...                           ...                    ...   \n",
       "9995                          0.0                    NaN   \n",
       "9996                          0.0                    NaN   \n",
       "9997                          0.0                    NaN   \n",
       "9998                          0.0                    NaN   \n",
       "9999                          0.0                    NaN   \n",
       "\n",
       "      ECG_Phase_Completion_Ventricular  \n",
       "0                                  0.0  \n",
       "1                                  0.0  \n",
       "2                                  0.0  \n",
       "3                                  0.0  \n",
       "4                                  0.0  \n",
       "...                                ...  \n",
       "9995                               0.0  \n",
       "9996                               0.0  \n",
       "9997                               0.0  \n",
       "9998                               0.0  \n",
       "9999                               0.0  \n",
       "\n",
       "[10000 rows x 19 columns]"
      ]
     },
     "execution_count": 305,
     "metadata": {},
     "output_type": "execute_result"
    }
   ],
   "source": [
    "ecg = nk.ecg_simulate(duration=20, sampling_rate=500, heart_rate=80)\n",
    "signals, info = nk.ecg_process(ecg, sampling_rate=500)\n",
    "signals"
   ]
  },
  {
   "cell_type": "code",
   "execution_count": 327,
   "id": "f8eb9d3c-4f1b-4a35-947d-5f4bf98ed3aa",
   "metadata": {},
   "outputs": [
    {
     "name": "stdout",
     "output_type": "stream",
     "text": [
      "P-value:  3.6808771833061636e-26\n"
     ]
    },
    {
     "name": "stderr",
     "output_type": "stream",
     "text": [
      "/home/amirsalimi/miniconda3/envs/nexting/lib/python3.10/site-packages/statsmodels/graphics/tsaplots.py:348: FutureWarning: The default method 'yw' can produce PACF values outside of the [-1,1] interval. After 0.13, the default will change tounadjusted Yule-Walker ('ywm'). You can use this method now by setting method='ywm'.\n",
      "  warnings.warn(\n"
     ]
    },
    {
     "data": {
      "image/png": "[encoded data removed]",
      "text/plain": [
       "<Figure size 432x288 with 1 Axes>"
      ]
     },
     "metadata": {
      "needs_background": "light"
     },
     "output_type": "display_data"
    }
   ],
   "source": [
    "df_stationarityTest = adfuller(signals[\"ECG_Raw\"], autolag='AIC')\n",
    "print(\"P-value: \", df_stationarityTest[1])\n",
    "pacf = plot_pacf(signals[\"ECG_Raw\"], lags=1000)"
   ]
  },
  {
   "cell_type": "code",
   "execution_count": 308,
   "id": "3b8213d4-23f1-4bd8-bfcf-da7e465519e7",
   "metadata": {},
   "outputs": [],
   "source": [
    "\n",
    "train_data = signals[\"ECG_Raw\"][:len(signals)-5000]\n",
    "test_data = signals[\"ECG_Raw\"][len(signals)-5000:]\n",
    "\n",
    "ar_model = AutoReg(train_data, lags=1000).fit()\n",
    "# print(ar_model.summary())"
   ]
  },
  {
   "cell_type": "code",
   "execution_count": 309,
   "id": "cbaa24bc-c011-40b1-9242-8405c4f462f2",
   "metadata": {},
   "outputs": [
    {
     "data": {
      "text/plain": [
       "[<matplotlib.lines.Line2D at 0x7f05c32da530>]"
      ]
     },
     "execution_count": 309,
     "metadata": {},
     "output_type": "execute_result"
    },
    {
     "data": {
      "image/png": "[encoded data removed]",
      "text/plain": [
       "<Figure size 432x288 with 1 Axes>"
      ]
     },
     "metadata": {
      "needs_background": "light"
     },
     "output_type": "display_data"
    }
   ],
   "source": [
    "\n",
    "pred = ar_model.predict(start=len(train_data), end=(len(signals)-1), dynamic=False)\n",
    "\n",
    "\n",
    "plt.plot(test_data, color='red')\n",
    "plt.plot(pred)"
   ]
  },
  {
   "cell_type": "markdown",
   "id": "02c48c2a-8113-4357-9790-a89d135b17fa",
   "metadata": {},
   "source": [
    "# same process for real ECGs"
   ]
  },
  {
   "cell_type": "code",
   "execution_count": 320,
   "id": "7081e40c-846a-44c0-a8dc-a8d0ab17c1d5",
   "metadata": {},
   "outputs": [
    {
     "name": "stdout",
     "output_type": "stream",
     "text": [
      "Extracting EDF parameters from /home/amirsalimi/ECG_Nexting/physionet.org/files/adfecgdb/1.0.0/r04.edf...\n",
      "EDF file detected\n",
      "Setting channel info structure...\n",
      "Creating raw.info structure...\n"
     ]
    }
   ],
   "source": [
    "\n",
    "# load data\n",
    "file = \"physionet.org/files/adfecgdb/1.0.0/r04.edf\"\n",
    "data = mne.io.read_raw_edf(file)\n",
    "raw_data = data.get_data()\n",
    "# after normalization \n",
    "raw_data = normalize(raw_data,axis=1,norm=\"max\")\n",
    "# you can get the metadata included in the file and a list of all channels:\n",
    "info = data.info\n",
    "channels = data.ch_names"
   ]
  },
  {
   "cell_type": "code",
   "execution_count": 321,
   "id": "9326cf74-ebba-4dc9-b793-06a81ddfe3dc",
   "metadata": {},
   "outputs": [
    {
     "data": {
      "text/plain": [
       "((10000, 5), (290000, 5))"
      ]
     },
     "execution_count": 321,
     "metadata": {},
     "output_type": "execute_result"
    }
   ],
   "source": [
    "ecg = raw_data\n",
    "\n",
    "train_length = 10000\n",
    "train = pd.DataFrame(ecg[:,0:train_length].T) # train and validate\n",
    "test = pd.DataFrame(ecg[:,train_length:].T)\n",
    "\n",
    "train.columns = [\"lead-\"+str(x) for x in train.columns]\n",
    "test.columns = [\"lead-\"+str(x) for x in test.columns]\n",
    "train.shape,test.shape"
   ]
  },
  {
   "cell_type": "code",
   "execution_count": 330,
   "id": "25a3a4ca-3405-4bb7-9549-f97025820fb6",
   "metadata": {},
   "outputs": [
    {
     "name": "stdout",
     "output_type": "stream",
     "text": [
      "P-value:  2.274998606412907e-10\n"
     ]
    },
    {
     "name": "stderr",
     "output_type": "stream",
     "text": [
      "/home/amirsalimi/miniconda3/envs/nexting/lib/python3.10/site-packages/statsmodels/graphics/tsaplots.py:348: FutureWarning: The default method 'yw' can produce PACF values outside of the [-1,1] interval. After 0.13, the default will change tounadjusted Yule-Walker ('ywm'). You can use this method now by setting method='ywm'.\n",
      "  warnings.warn(\n"
     ]
    },
    {
     "data": {
      "image/png": "[encoded data removed]",
      "text/plain": [
       "<Figure size 432x288 with 1 Axes>"
      ]
     },
     "metadata": {
      "needs_background": "light"
     },
     "output_type": "display_data"
    }
   ],
   "source": [
    "df_stationarityTest = adfuller(train[\"lead-0\"], autolag='AIC')\n",
    "print(\"P-value: \", df_stationarityTest[1])\n",
    "pacf = plot_pacf(train[\"lead-0\"], lags=500)"
   ]
  },
  {
   "cell_type": "code",
   "execution_count": 331,
   "id": "bd888a2f-317c-4ab7-b1d6-626c77953958",
   "metadata": {},
   "outputs": [],
   "source": [
    "\n",
    "train_data = train[\"lead-0\"]\n",
    "test_data = test[\"lead-0\"]\n",
    "ar_model = AutoReg(train_data.values, lags=1000).fit()\n",
    "# print(ar_model.summary())"
   ]
  },
  {
   "cell_type": "code",
   "execution_count": 338,
   "id": "da61727e-c8cc-42a2-b0e5-1e7ddad2419d",
   "metadata": {},
   "outputs": [
    {
     "data": {
      "text/plain": [
       "[<matplotlib.lines.Line2D at 0x7f05c29fd600>]"
      ]
     },
     "execution_count": 338,
     "metadata": {},
     "output_type": "execute_result"
    },
    {
     "data": {
      "image/png": "[encoded data removed]",
      "text/plain": [
       "<Figure size 432x288 with 1 Axes>"
      ]
     },
     "metadata": {
      "needs_background": "light"
     },
     "output_type": "display_data"
    }
   ],
   "source": [
    "pred_start, pred_length = 10000,5000\n",
    "\n",
    "pred = ar_model.predict(start=10000, end=15000, dynamic=False)\n",
    "\n",
    "\n",
    "plt.plot(test_data[:5000], color='red')\n",
    "plt.plot(pred,color='blue')"
   ]
  },
  {
   "cell_type": "markdown",
   "id": "15b7143c-a627-485c-b76a-14785d2de770",
   "metadata": {},
   "source": [
    "so it works well on real ECGs as well"
   ]
  }
 ],
 "metadata": {
  "kernelspec": {
   "display_name": "Python 3 (ipykernel)",
   "language": "python",
   "name": "python3"
  },
  "language_info": {
   "codemirror_mode": {
    "name": "ipython",
    "version": 3
   },
   "file_extension": ".py",
   "mimetype": "text/x-python",
   "name": "python",
   "nbconvert_exporter": "python",
   "pygments_lexer": "ipython3",
   "version": "3.10.4"
  }
 },
 "nbformat": 4,
 "nbformat_minor": 5
}
